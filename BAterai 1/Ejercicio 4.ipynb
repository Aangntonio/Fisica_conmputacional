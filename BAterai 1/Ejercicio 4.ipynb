{
 "cells": [
  {
   "cell_type": "code",
   "execution_count": 2,
   "id": "5df3d007",
   "metadata": {},
   "outputs": [],
   "source": [
    "import numpy as np\n",
    "import matplotlib.pyplot as plt\n",
    "import math"
   ]
  },
  {
   "cell_type": "code",
   "execution_count": 16,
   "id": "3a63911a",
   "metadata": {},
   "outputs": [],
   "source": [
    "def error_relativo(arg1,arg2):\n",
    "    err = (abs(arg1 -arg2)) / arg1"
   ]
  },
  {
   "cell_type": "markdown",
   "id": "f56a82c4",
   "metadata": {},
   "source": [
    "## Pi\n",
    "Para puntualizar el valor de pi se puede utilizar la suma de los inversos cuadrados o mejor conocido como $el \\ problema de  \\ Basilea $ expresada por la siguiente expansión:\n",
    "$$\n",
    "\\displaystyle{\\sum_{n=1} ^\\infty \\dfrac{1}{n^2}} = \\dfrac{1}{1^2} +\\dfrac{1}{2^2} + \\dfrac{1}{3^2} +... \\dfrac{1}{n^2} =  \\dfrac{\\pi^2}{6}\n",
    "$$|\n"
   ]
  },
  {
   "cell_type": "code",
   "execution_count": 42,
   "id": "0faf734e",
   "metadata": {},
   "outputs": [],
   "source": [
    "def basilea_pi(n = 100000):\n",
    "    '''\n",
    "    Función que calcula la suma del problema de basilea con n terminos\n",
    "    '''\n",
    "    suma = 1\n",
    "    j = 2\n",
    "    for i in range(1,n+1,1):\n",
    "        termino = 1 / (j* j) #Calculo del termino necesario \n",
    "        suma = suma + termino\n",
    "        j += 1\n",
    "    return np.sqrt(suma*6)\n",
    "        "
   ]
  },
  {
   "cell_type": "code",
   "execution_count": 43,
   "id": "a9c5afb0",
   "metadata": {},
   "outputs": [
    {
     "name": "stdout",
     "output_type": "stream",
     "text": [
      "3.1415831044219478\n"
     ]
    }
   ],
   "source": [
    "print(basilea_pi())"
   ]
  },
  {
   "cell_type": "code",
   "execution_count": 55,
   "id": "4005fe10",
   "metadata": {},
   "outputs": [
    {
     "name": "stdout",
     "output_type": "stream",
     "text": [
      "Iteracion \t aproximacion \t\t error\n",
      "--------------------------------------------------\n",
      "0 \t \t   2.738613 \t \t 1.28272e-01\n",
      "5000 \t \t   3.141402 \t \t 6.07642e-05\n",
      "10000 \t \t   3.141497 \t \t 3.03892e-05\n",
      "15000 \t \t   3.141529 \t \t 2.02611e-05\n",
      "20000 \t \t   3.141545 \t \t 1.51964e-05\n",
      "25000 \t \t   3.141554 \t \t 1.21574e-05\n",
      "30000 \t \t   3.141561 \t \t 1.01313e-05\n",
      "35000 \t \t   3.141565 \t \t 8.68409e-06\n",
      "40000 \t \t   3.141569 \t \t 7.59864e-06\n",
      "45000 \t \t   3.141571 \t \t 6.75439e-06\n",
      "50000 \t \t   3.141574 \t \t 6.07899e-06\n",
      "55000 \t \t   3.141575 \t \t 5.52637e-06\n",
      "60000 \t \t   3.141577 \t \t 5.06586e-06\n",
      "65000 \t \t   3.141578 \t \t 4.67619e-06\n",
      "70000 \t \t   3.141579 \t \t 4.34219e-06\n",
      "75000 \t \t   3.141580 \t \t 4.05272e-06\n",
      "80000 \t \t   3.141581 \t \t 3.79943e-06\n",
      "85000 \t \t   3.141581 \t \t 3.57594e-06\n",
      "90000 \t \t   3.141582 \t \t 3.37728e-06\n",
      "95000 \t \t   3.141583 \t \t 3.19954e-06\n",
      "100000 \t \t   3.141583 \t \t 3.03956e-06\n"
     ]
    }
   ],
   "source": [
    "#Para probar el algoritmo se importa el valor de pi del modulo math y se calcula el error \n",
    "import math\n",
    "print('Iteracion \\t aproximacion \\t\\t error')\n",
    "print('-'*50)\n",
    "\n",
    "\n",
    "for m in range(1,105001,5000):\n",
    "    pi_aproximado= basilea_pi(m)\n",
    "    error_pi = abs(math.pi - pi_aproximado) / math.pi\n",
    "    print('{0:} \\t \\t {1:10f} \\t \\t {2:1.5e}'.format(m-1, pi_aproximado, error_pi))"
   ]
  },
  {
   "cell_type": "markdown",
   "id": "8e8c5cf5",
   "metadata": {},
   "source": [
    "## Numero de Euler\n",
    "Para conocer el valor de e se puede hacer una expansion con series de Taylor de la función logaritmitca:\n",
    "$$\n",
    "e^x = \\displaystyle{\\sum_{n= 1}^\\infty \\dfrac{x^n}{n!}}\n",
    "$$\n",
    "asi que  para $x=1$ entonces $f(1) = e$, por lo que:\n",
    "$$\n",
    "e = \\displaystyle{\\sum_{n= 1}^\\infty \\dfrac{1}{n!}}\n",
    "$$\n"
   ]
  },
  {
   "cell_type": "code",
   "execution_count": 7,
   "id": "2015461e",
   "metadata": {},
   "outputs": [
    {
     "name": "stdout",
     "output_type": "stream",
     "text": [
      "2.718281828459045\n"
     ]
    }
   ],
   "source": [
    "print(np.e)"
   ]
  },
  {
   "cell_type": "code",
   "execution_count": 14,
   "id": "39f8539d",
   "metadata": {},
   "outputs": [],
   "source": [
    "def aproximacion_euler(n=256):\n",
    "    '''\n",
    "    Funcion que aproxima el valor del numerode euler con n iteraciones\n",
    "    '''\n",
    "    facto = 1\n",
    "    suma_facto = 1\n",
    "    j = 1\n",
    "    for i in range(1,n):\n",
    "        facto = i * facto\n",
    "        termino_facto = 1 / facto\n",
    "        suma_facto = suma_facto + termino_facto\n",
    "        j +=1\n",
    "    return suma_facto"
   ]
  },
  {
   "cell_type": "code",
   "execution_count": 13,
   "id": "5eb3c319",
   "metadata": {},
   "outputs": [
    {
     "data": {
      "text/plain": [
       "2.7182818284590455"
      ]
     },
     "execution_count": 13,
     "metadata": {},
     "output_type": "execute_result"
    }
   ],
   "source": [
    "aproximacion_euler()"
   ]
  },
  {
   "cell_type": "code",
   "execution_count": 38,
   "id": "8332e97e",
   "metadata": {},
   "outputs": [
    {
     "name": "stdout",
     "output_type": "stream",
     "text": [
      "Iteracion \t aproximacion \t\t error\n",
      "--------------------------------------------------\n",
      "1 \t \t   1.000000 \t \t 6.32121e-01\n",
      "4 \t \t   2.666667 \t \t 1.89882e-02\n",
      "7 \t \t   2.718056 \t \t 8.32411e-05\n",
      "10 \t \t   2.718282 \t \t 1.11425e-07\n",
      "13 \t \t   2.718282 \t \t 6.35977e-11\n",
      "16 \t \t   2.718282 \t \t 1.84610e-14\n",
      "19 \t \t   2.718282 \t \t 1.63371e-16\n",
      "22 \t \t   2.718282 \t \t 1.63371e-16\n",
      "25 \t \t   2.718282 \t \t 1.63371e-16\n",
      "28 \t \t   2.718282 \t \t 1.63371e-16\n",
      "31 \t \t   2.718282 \t \t 1.63371e-16\n",
      "34 \t \t   2.718282 \t \t 1.63371e-16\n",
      "37 \t \t   2.718282 \t \t 1.63371e-16\n",
      "40 \t \t   2.718282 \t \t 1.63371e-16\n",
      "43 \t \t   2.718282 \t \t 1.63371e-16\n",
      "46 \t \t   2.718282 \t \t 1.63371e-16\n",
      "49 \t \t   2.718282 \t \t 1.63371e-16\n",
      "52 \t \t   2.718282 \t \t 1.63371e-16\n",
      "55 \t \t   2.718282 \t \t 1.63371e-16\n",
      "58 \t \t   2.718282 \t \t 1.63371e-16\n",
      "61 \t \t   2.718282 \t \t 1.63371e-16\n",
      "64 \t \t   2.718282 \t \t 1.63371e-16\n",
      "67 \t \t   2.718282 \t \t 1.63371e-16\n",
      "70 \t \t   2.718282 \t \t 1.63371e-16\n",
      "73 \t \t   2.718282 \t \t 1.63371e-16\n",
      "76 \t \t   2.718282 \t \t 1.63371e-16\n",
      "79 \t \t   2.718282 \t \t 1.63371e-16\n",
      "82 \t \t   2.718282 \t \t 1.63371e-16\n",
      "85 \t \t   2.718282 \t \t 1.63371e-16\n",
      "88 \t \t   2.718282 \t \t 1.63371e-16\n",
      "91 \t \t   2.718282 \t \t 1.63371e-16\n",
      "94 \t \t   2.718282 \t \t 1.63371e-16\n",
      "97 \t \t   2.718282 \t \t 1.63371e-16\n",
      "El valor de la aproximación es 2.7182818284590455\n"
     ]
    }
   ],
   "source": [
    "print('Iteracion \\t aproximacion \\t\\t error')\n",
    "print('-'*50)\n",
    "\n",
    "\n",
    "for m in range(1,100,3):\n",
    "    e_aprrox = aproximacion_euler(m)\n",
    "    error_e = (abs(np.e - e_aprrox)) / np.e\n",
    "    print('{0:} \\t \\t {1:10f} \\t \\t {2:1.5e}'.format(m, e_aprrox, error_e))\n",
    "print('El valor de la aproximación es', e_aprrox)"
   ]
  },
  {
   "cell_type": "markdown",
   "id": "a39ce49c",
   "metadata": {},
   "source": [
    "## Constante de Euler\n",
    "La consntante $\\gamma$ de euler se puede expresar mediante el limite de una suma dada por :\n",
    "$$\n",
    "\\gamma =  \\lim_{n \\to \\infty } \\left( \\displaystyle{\\sum_{k=1}^n} - ln(n) \\right)\n",
    "$$\n",
    "Se puede implementar un programa con una n muy grande cuyo valor \n",
    "$$\n",
    "\\gamma \\approx 0.57721566490153286060651209\n",
    "$$"
   ]
  },
  {
   "cell_type": "code",
   "execution_count": 31,
   "id": "d2b943b2",
   "metadata": {},
   "outputs": [],
   "source": [
    "def constante_Euler(TOL= 3000):\n",
    "    '''\n",
    "    FUnción que calcula la cosntante gama de Euler con una tolerancia de un numero muy grande\n",
    "    '''\n",
    "    if  TOL <= 1 :\n",
    "        raise ValueError('Debes introducir una tolerancia menor que 1')\n",
    "    \n",
    "    n= 1 #inicializa el ciclo\n",
    "    suma = 0\n",
    "    while n < TOL+1:\n",
    "        termino_euler = 1 / n\n",
    "        suma += termino_euler\n",
    "        n += 1\n",
    "    return suma - np.log(n)\n",
    "        "
   ]
  },
  {
   "cell_type": "code",
   "execution_count": 32,
   "id": "cc50b739",
   "metadata": {},
   "outputs": [
    {
     "data": {
      "text/plain": [
       "0.5770490445188017"
      ]
     },
     "execution_count": 32,
     "metadata": {},
     "output_type": "execute_result"
    }
   ],
   "source": [
    "constante_Euler()"
   ]
  },
  {
   "cell_type": "code",
   "execution_count": 56,
   "id": "d68efcc3",
   "metadata": {},
   "outputs": [
    {
     "name": "stdout",
     "output_type": "stream",
     "text": [
      "Valor n \t aproximacion \t\t error\n",
      "--------------------------------------------------\n",
      "0 \t\t 0.4013877113 \t\t 3.04614e-01\n",
      "100 \t\t 0.5723534411 \t\t 8.42358e-03\n",
      "200 \t\t 0.5747505885 \t\t 4.27063e-03\n",
      "300 \t\t 0.5755645922 \t\t 2.86041e-03\n",
      "400 \t\t 0.5759744570 \t\t 2.15034e-03\n",
      "500 \t\t 0.5762212997 \t\t 1.72269e-03\n",
      "600 \t\t 0.5763862483 \t\t 1.43693e-03\n",
      "700 \t\t 0.5765042587 \t\t 1.23248e-03\n",
      "800 \t\t 0.5765928707 \t\t 1.07896e-03\n",
      "900 \t\t 0.5766618528 \t\t 9.59454e-04\n",
      "1000 \t\t 0.5767170776 \t\t 8.63780e-04\n",
      "1100 \t\t 0.5767622872 \t\t 7.85456e-04\n",
      "1200 \t\t 0.5767999797 \t\t 7.20156e-04\n",
      "1300 \t\t 0.5768318860 \t\t 6.64880e-04\n",
      "1400 \t\t 0.5768592434 \t\t 6.17484e-04\n",
      "1500 \t\t 0.5768829600 \t\t 5.76396e-04\n",
      "1600 \t\t 0.5769037173 \t\t 5.40435e-04\n",
      "1700 \t\t 0.5769220366 \t\t 5.08698e-04\n",
      "1800 \t\t 0.5769383237 \t\t 4.80481e-04\n",
      "1900 \t\t 0.5769528989 \t\t 4.55230e-04\n",
      "2000 \t\t 0.5769660186 \t\t 4.32501e-04\n",
      "2100 \t\t 0.5769778905 \t\t 4.11933e-04\n",
      "2200 \t\t 0.5769886845 \t\t 3.93233e-04\n",
      "2300 \t\t 0.5769985411 \t\t 3.76157e-04\n",
      "2400 \t\t 0.5770075772 \t\t 3.60502e-04\n",
      "2500 \t\t 0.5770158913 \t\t 3.46099e-04\n",
      "2600 \t\t 0.5770235665 \t\t 3.32802e-04\n",
      "2700 \t\t 0.5770306738 \t\t 3.20489e-04\n",
      "2800 \t\t 0.5770372740 \t\t 3.09054e-04\n",
      "2900 \t\t 0.5770434194 \t\t 2.98408e-04\n"
     ]
    }
   ],
   "source": [
    "print('Valor n \\t aproximacion \\t\\t error')\n",
    "print('-'*50)\n",
    "valor_exacto = 0.57721566490\n",
    "\n",
    "for k in range(2,3002,100):\n",
    "    const_euler = constante_Euler(k)\n",
    "    error_constante = abs(valor_exacto- const_euler) / valor_exacto\n",
    "    print('{0:} \\t\\t {1:1.10f} \\t\\t {2:1.5e}'.format(k-2, const_euler, error_constante))\n"
   ]
  }
 ],
 "metadata": {
  "kernelspec": {
   "display_name": "Python 3 (ipykernel)",
   "language": "python",
   "name": "python3"
  },
  "language_info": {
   "codemirror_mode": {
    "name": "ipython",
    "version": 3
   },
   "file_extension": ".py",
   "mimetype": "text/x-python",
   "name": "python",
   "nbconvert_exporter": "python",
   "pygments_lexer": "ipython3",
   "version": "3.9.13"
  }
 },
 "nbformat": 4,
 "nbformat_minor": 5
}
