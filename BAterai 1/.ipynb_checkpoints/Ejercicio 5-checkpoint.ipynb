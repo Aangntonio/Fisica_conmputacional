{
 "cells": [
  {
   "cell_type": "code",
   "execution_count": 2,
   "id": "edc91458",
   "metadata": {},
   "outputs": [],
   "source": [
    "import numpy as np \n",
    "import matplotlib.pyplot as plt "
   ]
  },
  {
   "cell_type": "code",
   "execution_count": 3,
   "id": "c4400a91",
   "metadata": {},
   "outputs": [],
   "source": [
    "def error (arg1,arg2):\n",
    "    '''\n",
    "    Esta función genera el valor del error abosulto de 2 valores\n",
    "    '''\n",
    "    err = abs( (arg1 - arg2/arg1)) * 100\n",
    "    return err"
   ]
  },
  {
   "cell_type": "code",
   "execution_count": 91,
   "id": "85e8a307",
   "metadata": {},
   "outputs": [],
   "source": [
    "def P_Horner(a, x):#a: lista de valores de los coeficientes, x: valores q necesito evaluar\n",
    "    P_Hor=0\n",
    "    for n in range(len(a)-1, -1, -1):#de exponente más bajo al más alto, -1 \n",
    "        P_Hor= a [n] + P_Hor * x\n",
    "    return P_Hor"
   ]
  },
  {
   "cell_type": "markdown",
   "id": "45120e55",
   "metadata": {},
   "source": [
    "La función $$arcsin(x)$$ se puede aproximar como\n",
    "$$\n",
    "arcsin(x) = \\displaystyle{\\sum_{i = 0} \\dfrac{(2i)!}{2^{2i}(i!)^{2}(2i+1)   }x^{(2i+1)} } = x + \\dfrac{1}{6}x^{3} + \\dfrac{3}{40}x^{3}\n",
    "$$"
   ]
  },
  {
   "cell_type": "code",
   "execution_count": 27,
   "id": "9ec6ad3c",
   "metadata": {},
   "outputs": [
    {
     "name": "stdout",
     "output_type": "stream",
     "text": [
      "0.16666666666666666 0.075\n"
     ]
    }
   ],
   "source": [
    "print(1/6, 3/40)"
   ]
  },
  {
   "cell_type": "code",
   "execution_count": null,
   "id": "591c2ccc",
   "metadata": {},
   "outputs": [],
   "source": [
    "def arcsssin(x,n):\n",
    "    '''\n",
    "    \n",
    "    '''\n",
    "    lista_coeficientes =[1,0]\n",
    "    numerador = 1\n",
    "    denominador = 1\n",
    "    factor = 1\n",
    "    \n",
    "    for i in range(1,n ):\n",
    "        numerador = numerador  * (2 * i - 1) * (2 * i)\n",
    "        factor *= i\n",
    "        denominador = (factor **2) * (2**(2*i)) * (2*i +1) \n",
    "        coeficiente = numerador/denominador\n",
    "        lista_coeficientes.append(coeficiente)\n",
    "        #Ya que el polinomio tiene coeficientes impares no se necesitan agregar 0 por cada vez que\n",
    "        #se introuzca un coeficiente impar\n",
    "        lista_coeficientes.append(0) #\n",
    "        coeficientes = [lista_coeficientes[i] for i in range(len(lista_coeficientes) - 1, -1, -1)]\n",
    "    \n",
    "    resultado = P_Horner(l,x)\n",
    "    return resultado\n",
    "\n",
    "        \n",
    "        \n",
    "    "
   ]
  },
  {
   "cell_type": "code",
   "execution_count": 222,
   "id": "8179a5ad",
   "metadata": {},
   "outputs": [],
   "source": [
    "def arcsin(x, n):\n",
    "    lista_coeficientes = [0]\n",
    "    numerador = 1\n",
    "    denominador = 1\n",
    "    factor = 1\n",
    "\n",
    "    for i in range(1, n):\n",
    "        numerador = numerador * (2 * i - 1) * (2 * i)\n",
    "        factor *= i\n",
    "        denominador = (factor ** 2) * (2 ** (2 * i)) * (2 * i + 1)\n",
    "        coeficiente = numerador / denominador\n",
    "        lista_coeficientes.append(coeficiente)\n",
    "        lista_coeficientes.append(0)\n",
    "\n",
    "    coeficientes = [lista_coeficientes[i] for i in range(len(lista_coeficientes) - 1, -1, -1)]\n",
    "\n",
    "    resultado = P_Horner(coeficientes, x)\n",
    "    resultado_mejorado = np.polyval(coeficientes,x)\n",
    "    return resultado\n"
   ]
  },
  {
   "cell_type": "code",
   "execution_count": 223,
   "id": "4fc75b59",
   "metadata": {},
   "outputs": [
    {
     "data": {
      "text/plain": [
       "0.006964290224529391"
      ]
     },
     "execution_count": 223,
     "metadata": {},
     "output_type": "execute_result"
    }
   ],
   "source": [
    "arcsin(0.5,10)"
   ]
  },
  {
   "cell_type": "code",
   "execution_count": null,
   "id": "9ef565fc",
   "metadata": {},
   "outputs": [],
   "source": []
  }
 ],
 "metadata": {
  "kernelspec": {
   "display_name": "Python 3 (ipykernel)",
   "language": "python",
   "name": "python3"
  },
  "language_info": {
   "codemirror_mode": {
    "name": "ipython",
    "version": 3
   },
   "file_extension": ".py",
   "mimetype": "text/x-python",
   "name": "python",
   "nbconvert_exporter": "python",
   "pygments_lexer": "ipython3",
   "version": "3.9.13"
  }
 },
 "nbformat": 4,
 "nbformat_minor": 5
}
