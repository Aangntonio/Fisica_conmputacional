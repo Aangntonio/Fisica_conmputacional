{
 "cells": [
  {
   "cell_type": "markdown",
   "id": "30804dec",
   "metadata": {},
   "source": [
    "Primero hay que notar que si bien estas computadoras estuvieron activas druante 100 horas, podemos ver que esto representa una cantidad grande de segundos;\n"
   ]
  },
  {
   "cell_type": "code",
   "execution_count": null,
   "id": "84bf519a",
   "metadata": {},
   "outputs": [],
   "source": [
    "print('Si en una hora hay 3600 s, entonces para 100 horas hay', 100*3600, 'segundos')"
   ]
  },
  {
   "cell_type": "markdown",
   "id": "476d166c",
   "metadata": {},
   "source": [
    "Sin embargo se necesita hacer una representacion binaria de este número, pero dada la represntacion de un numero en punto flotante \n",
    "$$\n",
    "x = \\sigma \\cdot \\bar{x} \\cdot 2^{e}\n",
    "$$\n"
   ]
  },
  {
   "cell_type": "code",
   "execution_count": 8,
   "id": "7ab89ab4",
   "metadata": {},
   "outputs": [
    {
     "name": "stdout",
     "output_type": "stream",
     "text": [
      "0b1010111111001000000\n"
     ]
    }
   ],
   "source": [
    "#para ver la represernacion binaria de el numero de segundos podemos usar bin\n",
    "\n",
    "tiempo_binario = bin(100*3600)\n",
    "print(tiempo_binario)"
   ]
  },
  {
   "cell_type": "markdown",
   "id": "f05228a7",
   "metadata": {},
   "source": [
    "Pero esta represantacion suele tener un cierto error dada la naturaleza discreta de la aritmetica de punto flotante, por otro lado la matisa de 24 bits a la diferencia a la de una computadora actual hace que el error se propagué, par verlo tambien se necesita ver la presentacion de $\\dfrac{1}{10}$"
   ]
  },
  {
   "cell_type": "code",
   "execution_count": 12,
   "id": "7f24ecb0",
   "metadata": {},
   "outputs": [
    {
     "ename": "TypeError",
     "evalue": "'float' object cannot be interpreted as an integer",
     "output_type": "error",
     "traceback": [
      "\u001b[1;31m---------------------------------------------------------------------------\u001b[0m",
      "\u001b[1;31mTypeError\u001b[0m                                 Traceback (most recent call last)",
      "\u001b[1;32m~\\AppData\\Local\\Temp\\ipykernel_17364\\2004599464.py\u001b[0m in \u001b[0;36m<module>\u001b[1;34m\u001b[0m\n\u001b[1;32m----> 1\u001b[1;33m \u001b[0mdecimo_binario\u001b[0m \u001b[1;33m=\u001b[0m \u001b[0mbin\u001b[0m\u001b[1;33m(\u001b[0m\u001b[1;33m-\u001b[0m\u001b[1;36m0.1\u001b[0m\u001b[1;33m)\u001b[0m\u001b[1;33m\u001b[0m\u001b[1;33m\u001b[0m\u001b[0m\n\u001b[0m\u001b[0;32m      2\u001b[0m \u001b[0mprint\u001b[0m\u001b[1;33m(\u001b[0m\u001b[0mdecimo_binario\u001b[0m\u001b[1;33m)\u001b[0m\u001b[1;33m\u001b[0m\u001b[1;33m\u001b[0m\u001b[0m\n",
      "\u001b[1;31mTypeError\u001b[0m: 'float' object cannot be interpreted as an integer"
     ]
    }
   ],
   "source": [
    "decimo_binario = bin(-0.1)\n",
    "print(decimo_binario)"
   ]
  },
  {
   "cell_type": "markdown",
   "id": "8d3eabcb",
   "metadata": {},
   "source": [
    "Dado que la función `bin()` no puede usar flotantes, podemois decir que otras formas que su forma binaria \n",
    "$$\n",
    "\\frac{1}{10} \\approx (0.00011001100110011)_2\n",
    "$$\n",
    "Por lo que por otro lado podemos ver que  al realizar este producto y por la propagación de erroes que vismos en clase:\n",
    "$$\n",
    "3,600,000 \\times \\frac{1}{10} \\approx 1101111001000011010000_2 \\times 0.00011001100110011_2\n",
    "$$\n",
    "o lo que de otra fomra se puede ver al multiplicar el error de$0.34$ s \n",
    "$$\n",
    "0.34 \\cdot 360000 s \n",
    "$$"
   ]
  },
  {
   "cell_type": "code",
   "execution_count": 13,
   "id": "4399be0e",
   "metadata": {},
   "outputs": [
    {
     "name": "stdout",
     "output_type": "stream",
     "text": [
      "el tiempo acumulado en total es  122400.00000000001 segundos\n"
     ]
    }
   ],
   "source": [
    "print('el tiempo acumulado en total es ', 100*3600*0.34, 'segundos')\n",
    "#lo cual es u tiempo demasiado grande y para velocidades muy altas termino siendo fatal"
   ]
  }
 ],
 "metadata": {
  "kernelspec": {
   "display_name": "Python 3 (ipykernel)",
   "language": "python",
   "name": "python3"
  },
  "language_info": {
   "codemirror_mode": {
    "name": "ipython",
    "version": 3
   },
   "file_extension": ".py",
   "mimetype": "text/x-python",
   "name": "python",
   "nbconvert_exporter": "python",
   "pygments_lexer": "ipython3",
   "version": "3.9.13"
  }
 },
 "nbformat": 4,
 "nbformat_minor": 5
}
