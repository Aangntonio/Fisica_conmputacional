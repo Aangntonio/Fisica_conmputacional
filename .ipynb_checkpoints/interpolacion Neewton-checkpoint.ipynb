{
 "cells": [
  {
   "cell_type": "code",
   "execution_count": 5,
   "id": "36008568",
   "metadata": {},
   "outputs": [],
   "source": [
    "import numpy as np\n",
    "import matplotlib.pyplot as plt\n",
    "import scipy as sp "
   ]
  },
  {
   "cell_type": "code",
   "execution_count": 7,
   "id": "2d8347a6",
   "metadata": {},
   "outputs": [],
   "source": [
    "def inter_newton(lista_coeficienes,n):\n",
    "    '''\n",
    "    \n",
    "    '''\n",
    "    suma_pol = 0\n",
    "    for i in range()\n",
    "    return print('nada')"
   ]
  },
  {
   "cell_type": "code",
   "execution_count": 10,
   "id": "fcaa16cc",
   "metadata": {},
   "outputs": [
    {
     "name": "stdout",
     "output_type": "stream",
     "text": [
      "nada\n"
     ]
    }
   ],
   "source": [
    "inter_newton(3,4)"
   ]
  },
  {
   "cell_type": "markdown",
   "id": "b09e1d2f",
   "metadata": {},
   "source": [
    "$$\n",
    "\\nabla y_i = \\dfrac{y_i -y_0}{x_1-x_0}, \\ i = 1,2,...,3\n",
    "$$\n",
    "\n",
    "$$\n",
    "\\nabla^n y_i = \\dfrac{\\nabla^{n-1} y_i  -\\nabla^{n-1} y_{n-1}}{x_i-x_0}, \\ i = 1,2,...,3\n",
    "$$"
   ]
  },
  {
   "cell_type": "markdown",
   "id": "f476a857",
   "metadata": {},
   "source": [
    "$$\n",
    "P_n (x) = a_0 + (x-x_0)a_1 + (x-x_0)(x-x_1)a_2 + ...+ (x-x_0)(x-x_{n-1})a_n\n",
    "$$"
   ]
  }
 ],
 "metadata": {
  "kernelspec": {
   "display_name": "Python 3 (ipykernel)",
   "language": "python",
   "name": "python3"
  },
  "language_info": {
   "codemirror_mode": {
    "name": "ipython",
    "version": 3
   },
   "file_extension": ".py",
   "mimetype": "text/x-python",
   "name": "python",
   "nbconvert_exporter": "python",
   "pygments_lexer": "ipython3",
   "version": "3.9.13"
  }
 },
 "nbformat": 4,
 "nbformat_minor": 5
}
