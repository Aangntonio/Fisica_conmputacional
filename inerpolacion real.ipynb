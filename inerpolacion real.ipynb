{
 "cells": [
  {
   "cell_type": "markdown",
   "id": "57736dd7",
   "metadata": {},
   "source": [
    "# Interpolacion de Neville\n",
    "\n",
    "funciona reptidos valores de $x$\n",
    "\n",
    "Polinomio de orden $k$\n",
    "\n",
    "$$\n",
    "P_k[x_i,...,x_{i+k}]\n",
    "$$\n",
    "\n",
    "donde:\n",
    "$$\n",
    "p_o[x_i]=y_i\n",
    "$$\n",
    "\n",
    "$$\n",
    "P_1[x_i,x_{i+1}] = \\dfrac{}{x-x_i}\n",
    "$$\n",
    "\n",
    "\n",
    "sea \n",
    "$$\n",
    "f(x) = \\dfrac{1}{1+25x^2}\n",
    "$$\n"
   ]
  }
 ],
 "metadata": {
  "kernelspec": {
   "display_name": "Python 3 (ipykernel)",
   "language": "python",
   "name": "python3"
  },
  "language_info": {
   "codemirror_mode": {
    "name": "ipython",
    "version": 3
   },
   "file_extension": ".py",
   "mimetype": "text/x-python",
   "name": "python",
   "nbconvert_exporter": "python",
   "pygments_lexer": "ipython3",
   "version": "3.9.13"
  }
 },
 "nbformat": 4,
 "nbformat_minor": 5
}
