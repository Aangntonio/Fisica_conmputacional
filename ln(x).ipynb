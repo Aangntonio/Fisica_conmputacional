{
 "cells": [
  {
   "cell_type": "code",
   "execution_count": 76,
   "id": "4f3604be",
   "metadata": {},
   "outputs": [],
   "source": [
    "from mi_libreria import error as error\n",
    "import numpy as np\n",
    "import matplotlib.pyplot as plt"
   ]
  },
  {
   "cell_type": "markdown",
   "id": "2f8de369",
   "metadata": {},
   "source": [
    "Para la expansión de $ln(x)$ se puede ver por series de talyor como\n",
    "$$\n",
    "ln(x+1) = \\displaystyle{\\sum_{i=1}^n \\dfrac{(-1)^{n+1} x^n}{n}  }\n",
    "$$\n",
    "en particular si x= 1 para $ln(2)$\n",
    "$$\n",
    "ln(2) = \\displaystyle{\\sum_{i=1}^n  \\dfrac{(-1)^{n+1}}{n}}\n",
    "$$"
   ]
  },
  {
   "cell_type": "markdown",
   "id": "8df64674",
   "metadata": {},
   "source": [
    "Pero esa expansión se puede ver como:\n",
    "$$\n",
    "ln 2 = 1 - \\dfrac{1}{2} + \\dfrac{1}{3} - \\dfrac{1}{4} +...\n",
    "$$\n",
    "Se puede separar en su parte negativa y positiva:\n",
    "$$\n",
    "\\begin{align}\n",
    "ln 2 &= \\left(1  + \\dfrac{1}{3} + \\dfrac{1}{5} + ...\\right) - \\left( \\dfrac{1}{2} + \\dfrac{1}{4} + ...\\right)\\\\\n",
    "ln 2 &= \\displaystyle{\\sum_{i=1}^n  \\dfrac{(-1)^{n+1}}{2n-1}} - \\displaystyle{\\sum_{i=1}^n  \\dfrac{(-1)^{n+1}}{2n}}\n",
    "\\end{align}\n",
    "$$"
   ]
  },
  {
   "cell_type": "code",
   "execution_count": 36,
   "id": "77b00252",
   "metadata": {},
   "outputs": [],
   "source": [
    "\n",
    "def ln_2(n):\n",
    "    suma_pos = 0\n",
    "    suma_neg = 0\n",
    "    for i in range(1,n+1):\n",
    "        suma_pos = suma_pos + 1/(2*i -1)\n",
    "        suma_neg = suma_neg + 1/(2*i)\n",
    "    return suma_pos - suma_neg\n",
    "    "
   ]
  },
  {
   "cell_type": "code",
   "execution_count": 86,
   "id": "dc22ec21",
   "metadata": {},
   "outputs": [
    {
     "name": "stdout",
     "output_type": "stream",
     "text": [
      "iteraciones \t Valor real \t\t Aproximacion \t\t Error\n",
      "--------------------------------------------------------------------------------\n",
      "0 \t\t 0.6931471806 \t\t 0.0000000000 \t\t 1.00000e+02 \n",
      "1 \t\t 0.6931471806 \t\t 1.0000000000 \t\t 4.42695e+01 \n",
      "2 \t\t 0.6931471806 \t\t 0.5000000000 \t\t 2.78652e+01 \n",
      "3 \t\t 0.6931471806 \t\t 0.8333333333 \t\t 2.02246e+01 \n",
      "4 \t\t 0.6931471806 \t\t 0.5833333333 \t\t 1.58428e+01 \n",
      "5 \t\t 0.6931471806 \t\t 0.7833333333 \t\t 1.30111e+01 \n",
      "6 \t\t 0.6931471806 \t\t 0.6166666667 \t\t 1.10338e+01 \n",
      "7 \t\t 0.6931471806 \t\t 0.7595238095 \t\t 9.57612e+00 \n",
      "8 \t\t 0.6931471806 \t\t 0.6345238095 \t\t 8.45756e+00 \n",
      "9 \t\t 0.6931471806 \t\t 0.7456349206 \t\t 7.57238e+00 \n",
      "10 \t\t 0.6931471806 \t\t 0.6456349206 \t\t 6.85457e+00 \n",
      "11 \t\t 0.6931471806 \t\t 0.7365440115 \t\t 6.26084e+00 \n",
      "12 \t\t 0.6931471806 \t\t 0.6532106782 \t\t 5.76162e+00 \n",
      "13 \t\t 0.6931471806 \t\t 0.7301337551 \t\t 5.33603e+00 \n",
      "14 \t\t 0.6931471806 \t\t 0.6587051837 \t\t 4.96893e+00 \n",
      "15 \t\t 0.6931471806 \t\t 0.7253718504 \t\t 4.64904e+00 \n",
      "16 \t\t 0.6931471806 \t\t 0.6628718504 \t\t 4.36781e+00 \n",
      "17 \t\t 0.6931471806 \t\t 0.7216953798 \t\t 4.11863e+00 \n",
      "18 \t\t 0.6931471806 \t\t 0.6661398242 \t\t 3.89634e+00 \n",
      "19 \t\t 0.6931471806 \t\t 0.7187714032 \t\t 3.69679e+00 \n",
      "20 \t\t 0.6931471806 \t\t 0.6687714032 \t\t 3.51668e+00 \n",
      "21 \t\t 0.6931471806 \t\t 0.7163904508 \t\t 3.35330e+00 \n",
      "22 \t\t 0.6931471806 \t\t 0.6709359053 \t\t 3.20441e+00 \n",
      "23 \t\t 0.6931471806 \t\t 0.7144141662 \t\t 3.06818e+00 \n",
      "24 \t\t 0.6931471806 \t\t 0.6727474995 \t\t 2.94305e+00 \n",
      "25 \t\t 0.6931471806 \t\t 0.7127474995 \t\t 2.82773e+00 \n",
      "26 \t\t 0.6931471806 \t\t 0.6742859611 \t\t 2.72110e+00 \n",
      "27 \t\t 0.6931471806 \t\t 0.7113229981 \t\t 2.62222e+00 \n",
      "28 \t\t 0.6931471806 \t\t 0.6756087124 \t\t 2.53027e+00 \n",
      "29 \t\t 0.6931471806 \t\t 0.7100914710 \t\t 2.44454e+00 \n",
      "30 \t\t 0.6931471806 \t\t 0.6767581377 \t\t 2.36444e+00 \n",
      "31 \t\t 0.6931471806 \t\t 0.7090162022 \t\t 2.28942e+00 \n",
      "32 \t\t 0.6931471806 \t\t 0.6777662022 \t\t 2.21901e+00 \n",
      "33 \t\t 0.6931471806 \t\t 0.7080692325 \t\t 2.15280e+00 \n",
      "34 \t\t 0.6931471806 \t\t 0.6786574678 \t\t 2.09042e+00 \n",
      "35 \t\t 0.6931471806 \t\t 0.7072288964 \t\t 2.03156e+00 \n",
      "36 \t\t 0.6931471806 \t\t 0.6794511186 \t\t 1.97592e+00 \n",
      "37 \t\t 0.6931471806 \t\t 0.7064781456 \t\t 1.92325e+00 \n",
      "38 \t\t 0.6931471806 \t\t 0.6801623562 \t\t 1.87331e+00 \n",
      "39 \t\t 0.6931471806 \t\t 0.7058033818 \t\t 1.82590e+00 \n",
      "40 \t\t 0.6931471806 \t\t 0.6808033818 \t\t 1.78083e+00 \n",
      "41 \t\t 0.6931471806 \t\t 0.7051936257 \t\t 1.73793e+00 \n",
      "42 \t\t 0.6931471806 \t\t 0.6813841019 \t\t 1.69705e+00 \n",
      "43 \t\t 0.6931471806 \t\t 0.7046399158 \t\t 1.65805e+00 \n",
      "44 \t\t 0.6931471806 \t\t 0.6819126431 \t\t 1.62080e+00 \n",
      "45 \t\t 0.6931471806 \t\t 0.7041348653 \t\t 1.58519e+00 \n",
      "46 \t\t 0.6931471806 \t\t 0.6823957349 \t\t 1.55111e+00 \n",
      "47 \t\t 0.6931471806 \t\t 0.7036723306 \t\t 1.51846e+00 \n",
      "48 \t\t 0.6931471806 \t\t 0.6828389973 \t\t 1.48716e+00 \n",
      "49 \t\t 0.6931471806 \t\t 0.7032471606 \t\t 1.45712e+00 \n",
      "50 \t\t 0.6931471806 \t\t 0.6832471606 \t\t 1.42827e+00 \n",
      "51 \t\t 0.6931471806 \t\t 0.7028550037 \t\t 1.40054e+00 \n",
      "52 \t\t 0.6931471806 \t\t 0.6836242345 \t\t 1.37387e+00 \n",
      "53 \t\t 0.6931471806 \t\t 0.7024921590 \t\t 1.34820e+00 \n",
      "54 \t\t 0.6931471806 \t\t 0.6839736405 \t\t 1.32346e+00 \n",
      "55 \t\t 0.6931471806 \t\t 0.7021554587 \t\t 1.29962e+00 \n",
      "56 \t\t 0.6931471806 \t\t 0.6842983158 \t\t 1.27662e+00 \n",
      "57 \t\t 0.6931471806 \t\t 0.7018421755 \t\t 1.25442e+00 \n",
      "58 \t\t 0.6931471806 \t\t 0.6846007962 \t\t 1.23298e+00 \n",
      "59 \t\t 0.6931471806 \t\t 0.7015499487 \t\t 1.21226e+00 \n",
      "60 \t\t 0.6931471806 \t\t 0.6848832820 \t\t 1.19223e+00 \n",
      "61 \t\t 0.6931471806 \t\t 0.7012767247 \t\t 1.17285e+00 \n",
      "62 \t\t 0.6931471806 \t\t 0.6851476924 \t\t 1.15408e+00 \n",
      "63 \t\t 0.6931471806 \t\t 0.7010207083 \t\t 1.13591e+00 \n",
      "64 \t\t 0.6931471806 \t\t 0.6853957083 \t\t 1.11830e+00 \n",
      "65 \t\t 0.6931471806 \t\t 0.7007803237 \t\t 1.10123e+00 \n",
      "66 \t\t 0.6931471806 \t\t 0.6856288085 \t\t 1.08467e+00 \n",
      "67 \t\t 0.6931471806 \t\t 0.7005541816 \t\t 1.06860e+00 \n",
      "68 \t\t 0.6931471806 \t\t 0.6858482993 \t\t 1.05301e+00 \n",
      "69 \t\t 0.6931471806 \t\t 0.7003410529 \t\t 1.03786e+00 \n",
      "70 \t\t 0.6931471806 \t\t 0.6860553386 \t\t 1.02314e+00 \n",
      "71 \t\t 0.6931471806 \t\t 0.7001398457 \t\t 1.00883e+00 \n",
      "72 \t\t 0.6931471806 \t\t 0.6862509568 \t\t 9.94915e-01 \n",
      "73 \t\t 0.6931471806 \t\t 0.6999495869 \t\t 9.81380e-01 \n",
      "74 \t\t 0.6931471806 \t\t 0.6864360734 \t\t 9.68208e-01 \n",
      "75 \t\t 0.6931471806 \t\t 0.6997694067 \t\t 9.55385e-01 \n",
      "76 \t\t 0.6931471806 \t\t 0.6866115120 \t\t 9.42898e-01 \n",
      "77 \t\t 0.6931471806 \t\t 0.6995985250 \t\t 9.30732e-01 \n",
      "78 \t\t 0.6931471806 \t\t 0.6867780122 \t\t 9.18877e-01 \n",
      "79 \t\t 0.6931471806 \t\t 0.6994362400 \t\t 9.07319e-01 \n",
      "80 \t\t 0.6931471806 \t\t 0.6869362400 \t\t 8.96049e-01 \n",
      "81 \t\t 0.6931471806 \t\t 0.6992819190 \t\t 8.85056e-01 \n",
      "82 \t\t 0.6931471806 \t\t 0.6870867971 \t\t 8.74329e-01 \n",
      "83 \t\t 0.6931471806 \t\t 0.6991349898 \t\t 8.63858e-01 \n",
      "84 \t\t 0.6931471806 \t\t 0.6872302279 \t\t 8.53636e-01 \n",
      "85 \t\t 0.6931471806 \t\t 0.6989949338 \t\t 8.43652e-01 \n",
      "86 \t\t 0.6931471806 \t\t 0.6873670268 \t\t 8.33900e-01 \n",
      "87 \t\t 0.6931471806 \t\t 0.6988612797 \t\t 8.24370e-01 \n",
      "88 \t\t 0.6931471806 \t\t 0.6874976434 \t\t 8.15056e-01 \n",
      "89 \t\t 0.6931471806 \t\t 0.6987335984 \t\t 8.05950e-01 \n",
      "90 \t\t 0.6931471806 \t\t 0.6876224873 \t\t 7.97045e-01 \n",
      "91 \t\t 0.6931471806 \t\t 0.6986114983 \t\t 7.88334e-01 \n",
      "92 \t\t 0.6931471806 \t\t 0.6877419331 \t\t 7.79812e-01 \n",
      "93 \t\t 0.6931471806 \t\t 0.6984946212 \t\t 7.71473e-01 \n",
      "94 \t\t 0.6931471806 \t\t 0.6878563234 \t\t 7.63309e-01 \n",
      "95 \t\t 0.6931471806 \t\t 0.6983826392 \t\t 7.55317e-01 \n",
      "96 \t\t 0.6931471806 \t\t 0.6879659725 \t\t 7.47490e-01 \n",
      "97 \t\t 0.6931471806 \t\t 0.6982752508 \t\t 7.39824e-01 \n",
      "98 \t\t 0.6931471806 \t\t 0.6880711692 \t\t 7.32314e-01 \n",
      "99 \t\t 0.6931471806 \t\t 0.6981721793 \t\t 7.24954e-01 \n"
     ]
    }
   ],
   "source": [
    "t = 2\n",
    "print('iteraciones \\t Valor real \\t\\t Aproximacion \\t\\t Error')\n",
    "print('-'*80)\n",
    "lista_error = []\n",
    "for l in range (0,100):\n",
    "    valor1 = ln_2(l)\n",
    "    error1 = error(np.log(2),valor1)\n",
    "    lista_error.append(error1)\n",
    "    \n",
    "    print('{0:} \\t\\t {1:1.10f} \\t\\t {2:1.10f} \\t\\t {3:1.5e} '.format(l,np.log(2),valor1,error1))\n",
    "    if len(str(valor1)) == 10:\n",
    "        break\n",
    "   # print(l,valor1,error1,valor2,error2)\n"
   ]
  },
  {
   "cell_type": "code",
   "execution_count": 94,
   "id": "21d85245",
   "metadata": {},
   "outputs": [
    {
     "data": {
      "image/png": "[encoded data removed]",
      "text/plain": [
       "<Figure size 640x480 with 1 Axes>"
      ]
     },
     "metadata": {},
     "output_type": "display_data"
    }
   ],
   "source": [
    "plt.plot(lista_error,'ro')\n",
    "plt.plot(lista_error,'b-')\n",
    "plt.yscale('log')\n",
    "plt.xlabel('Iteraciones')\n",
    "plt.ylabel('Error')\n",
    "plt.savefig('Error.jpg')\n",
    "plt.show()\n"
   ]
  }
 ],
 "metadata": {
  "kernelspec": {
   "display_name": "Python 3 (ipykernel)",
   "language": "python",
   "name": "python3"
  },
  "language_info": {
   "codemirror_mode": {
    "name": "ipython",
    "version": 3
   },
   "file_extension": ".py",
   "mimetype": "text/x-python",
   "name": "python",
   "nbconvert_exporter": "python",
   "pygments_lexer": "ipython3",
   "version": "3.9.13"
  }
 },
 "nbformat": 4,
 "nbformat_minor": 5
}
